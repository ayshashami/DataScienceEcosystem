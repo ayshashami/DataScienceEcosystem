{
 "cells": [
  {
   "cell_type": "markdown",
   "id": "c192efd1-ea46-464b-bd95-ff3ff6b572b3",
   "metadata": {},
   "source": [
    "# Data Science Tools and Ecosystem"
   ]
  },
  {
   "cell_type": "markdown",
   "id": "1382dc02-f8c0-4319-b8c9-d0fdcf4ebaf9",
   "metadata": {},
   "source": [
    "In this notebook, Data Science Tools and Ecosystem are summarized"
   ]
  },
  {
   "cell_type": "markdown",
   "id": "9fe316af-87e2-45b4-86e8-66825ec04577",
   "metadata": {},
   "source": [
    "**Objectives:**\n",
    "+ List commonly used libraries for Data Science\n",
    "+ Create tables using jupyter notebook\n",
    "+ Create ordered and unordered lists using jupyter notebook\n",
    "+ List populur development environment open source tools used in Data Science\n",
    "+ Create code cells to multiply and add integers"
   ]
  },
  {
   "cell_type": "markdown",
   "id": "607ad3cc-62af-49ba-a1d1-158576a85eec",
   "metadata": {},
   "source": [
    "Some of the popular languages that Data Scienstists use are:\n",
    "1. Python\n",
    "2. R\n",
    "3. SQL\n",
    "4. Scala"
   ]
  },
  {
   "cell_type": "markdown",
   "id": "53b247d3-ddaa-4662-a296-74e9c1225400",
   "metadata": {},
   "source": [
    "Some of the commonly used libraries by Data Scientists include:\n",
    "1. Pandas\n",
    "2. NumPy\n",
    "3. Matplotlib\n",
    "4. Seaborn\n",
    "5. Keras\n",
    "6. Apache Spark"
   ]
  },
  {
   "cell_type": "markdown",
   "id": "58570099-267a-472b-a90c-7f9fc748ef8f",
   "metadata": {},
   "source": [
    "| Data Science Tools |\n",
    "| ------------------ |\n",
    "| Jupyter Notebooks |\n",
    "| Jupyter Lab |\n",
    "| Apache Zeppelin |\n",
    "| RStudio |\n",
    "| Spyder |"
   ]
  },
  {
   "cell_type": "markdown",
   "id": "ddab9b1e-a523-4b54-9ace-f9fe7081582c",
   "metadata": {},
   "source": [
    "### Below are a few examples of evaluating arithmetic expressions in Python"
   ]
  },
  {
   "cell_type": "code",
   "execution_count": 3,
   "id": "36fe6ed2-f23d-4c91-a3dc-d99f9e4b066b",
   "metadata": {},
   "outputs": [
    {
     "data": {
      "text/plain": [
       "17"
      ]
     },
     "execution_count": 3,
     "metadata": {},
     "output_type": "execute_result"
    }
   ],
   "source": [
    "# This is a simple arithmetic expression to multiply then add integers\n",
    "(3*4)+5"
   ]
  },
  {
   "cell_type": "code",
   "execution_count": 7,
   "id": "69061a87-abfa-47ec-a111-3fffaf52a263",
   "metadata": {},
   "outputs": [
    {
     "data": {
      "text/plain": [
       "3.3333333333333335"
      ]
     },
     "execution_count": 7,
     "metadata": {},
     "output_type": "execute_result"
    }
   ],
   "source": [
    "# This will convert 200 minutes to hours by dividing by 60\n",
    "(200/60)"
   ]
  },
  {
   "cell_type": "markdown",
   "id": "05d4b7b8-0e0d-42c4-a677-abf29f4cdc6b",
   "metadata": {},
   "source": [
    "## Author\n",
    "Aysha Alshami"
   ]
  },
  {
   "cell_type": "code",
   "execution_count": null,
   "id": "ac45c464-fba3-4d9b-8224-0f103203a924",
   "metadata": {},
   "outputs": [],
   "source": []
  }
 ],
 "metadata": {
  "kernelspec": {
   "display_name": "Python 3 (ipykernel)",
   "language": "python",
   "name": "python3"
  },
  "language_info": {
   "codemirror_mode": {
    "name": "ipython",
    "version": 3
   },
   "file_extension": ".py",
   "mimetype": "text/x-python",
   "name": "python",
   "nbconvert_exporter": "python",
   "pygments_lexer": "ipython3",
   "version": "3.12.9"
  }
 },
 "nbformat": 4,
 "nbformat_minor": 5
}
